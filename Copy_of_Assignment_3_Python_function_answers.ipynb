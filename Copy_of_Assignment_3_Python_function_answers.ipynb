{
  "nbformat": 4,
  "nbformat_minor": 0,
  "metadata": {
    "kernelspec": {
      "display_name": "Python 3",
      "language": "python",
      "name": "python3"
    },
    "language_info": {
      "codemirror_mode": {
        "name": "ipython",
        "version": 3
      },
      "file_extension": ".py",
      "mimetype": "text/x-python",
      "name": "python",
      "nbconvert_exporter": "python",
      "pygments_lexer": "ipython3",
      "version": "3.7.4"
    },
    "colab": {
      "name": "Copy of Assignment 3 - Python function_answers.ipynb",
      "provenance": []
    }
  },
  "cells": [
    {
      "cell_type": "markdown",
      "metadata": {
        "id": "m7lHqHuTlpCW",
        "colab_type": "text"
      },
      "source": [
        "## Problem Statement"
      ]
    },
    {
      "cell_type": "markdown",
      "metadata": {
        "id": "VEwpMGp1lpCZ",
        "colab_type": "text"
      },
      "source": [
        "Q.1 Write a function to compute 5/0 and use try/except to catch the exceptions."
      ]
    },
    {
      "cell_type": "code",
      "metadata": {
        "id": "_k6O702vlpCb",
        "colab_type": "code",
        "colab": {
          "base_uri": "https://localhost:8080/",
          "height": 34
        },
        "outputId": "9b4210c8-a222-44e8-c11e-55c95e84cf2f"
      },
      "source": [
        "try:\n",
        "  print(5/0)\n",
        "except :\n",
        "  print(\"Can not divide by 0\")"
      ],
      "execution_count": 4,
      "outputs": [
        {
          "output_type": "stream",
          "text": [
            "Can not divide by 0\n"
          ],
          "name": "stdout"
        }
      ]
    },
    {
      "cell_type": "markdown",
      "metadata": {
        "id": "RUJw_TcClpCh",
        "colab_type": "text"
      },
      "source": [
        "Q.2 Implement a Python program to generate all sentences where subject is in [\"Americans\",\n",
        "\"Indians\"] and verb is in [\"Play\", \"watch\"] and the object is in [\"Baseball\",\"cricket\"].\n",
        "\n",
        "    Hint: Subject,Verb and Object should be declared in the program as shown below.\n",
        "    subjects=[\"Americans \",\"Indians\"]\n",
        "    verbs=[\"play\",\"watch\"]\n",
        "    objects=[\"Baseball\",\"Cricket\"]\n",
        "\n",
        "    Output should come as below:\n",
        "    Americans play Baseball.\n",
        "    Americans play Cricket.\n",
        "    Americans watch Baseball.\n",
        "    Americans watch Cricket.\n",
        "    Indians play Baseball.\n",
        "    Indians play Cricket.\n",
        "    Indians watch Baseball.\n",
        "    Indians watch Cricket."
      ]
    },
    {
      "cell_type": "code",
      "metadata": {
        "id": "hkJjsCoPlpCk",
        "colab_type": "code",
        "colab": {
          "base_uri": "https://localhost:8080/",
          "height": 153
        },
        "outputId": "128a497c-43c0-4e67-e9ba-b1e50b6dc93e"
      },
      "source": [
        "from itertools import permutations\n",
        "subjects=[\"Americans \",\"Indians\"]\n",
        "verbs=[\"play\",\"watch\"]\n",
        "objects=[\"Baseball\",\"Cricket\"]\n",
        "for i in subjects:\n",
        "  for j in verbs:\n",
        "    s=i+\" \"+j\n",
        "    for k in objects:\n",
        "       print(s +\" \"+k)\n"
      ],
      "execution_count": 20,
      "outputs": [
        {
          "output_type": "stream",
          "text": [
            "Americans  play Baseball\n",
            "Americans  play Cricket\n",
            "Americans  watch Baseball\n",
            "Americans  watch Cricket\n",
            "Indians play Baseball\n",
            "Indians play Cricket\n",
            "Indians watch Baseball\n",
            "Indians watch Cricket\n"
          ],
          "name": "stdout"
        }
      ]
    },
    {
      "cell_type": "markdown",
      "metadata": {
        "id": "mxUPw-J6lpCq",
        "colab_type": "text"
      },
      "source": [
        "Q.3 Write a function so that the columns of the output matrix are powers of the input vector.\n",
        "The order of the powers is determined by the increasing boolean argument. Specifically, when\n",
        "increasing is False, the i-th output column is the input vector raised element-wise to the power\n",
        "of N - i - 1.\n",
        "\n",
        "    HINT: Such a matrix with a geometric progression in each row is named for Alexandre Theophile Vandermonde."
      ]
    }
  ]
}